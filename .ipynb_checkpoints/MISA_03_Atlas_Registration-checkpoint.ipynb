{
 "cells": [
  {
   "cell_type": "code",
   "execution_count": 1,
   "id": "c9944d91",
   "metadata": {
    "id": "c9944d91"
   },
   "outputs": [],
   "source": [
    "import numpy as np\n",
    "import matplotlib.pyplot as plt\n",
    "import pandas as pd\n",
    "import seaborn as sns\n",
    "import SimpleITK as sitk\n",
    "from tqdm import tqdm\n",
    "from pathlib import Path\n",
    "\n",
    "\n",
    "import utils_registration \n",
    "import shutil"
   ]
  },
  {
   "cell_type": "markdown",
   "id": "1d09142b",
   "metadata": {
    "id": "1d09142b"
   },
   "source": [
    "# Atlas Registration [Test Dataset]"
   ]
  },
  {
   "cell_type": "code",
   "execution_count": 4,
   "id": "b3a4af8f",
   "metadata": {
    "id": "b3a4af8f"
   },
   "outputs": [
    {
     "data": {
      "text/plain": [
       "WindowsPath('D:/Lab_03/data/training-set/atlases/Par0009.affine')"
      ]
     },
     "execution_count": 4,
     "metadata": {},
     "output_type": "execute_result"
    }
   ],
   "source": [
    "# Define all necessary paths\n",
    "base_path       = Path('../Lab_03/').resolve()\n",
    "test_set_path   = base_path / 'data' / 'test-set'\n",
    "params_path     = base_path / 'parameter' \n",
    "test_imgs_dir   = test_set_path / 'testing-images'\n",
    "test_labels_dir = test_set_path / 'testing-labels'\n",
    "test_masks_dir  = test_set_path / 'testing-masks'\n",
    "output_path     = test_set_path / 'testing-outputs'\n",
    "\n",
    "our_atlas_path  = base_path / 'data' / 'training-set' / 'atlases' / 'Par0009.affine'\n",
    "#mni_atlas_path  = base_path / 'data' / 'MNITemplateAtlas'\n",
    "\n",
    "# Define parameter maps to use\n",
    "param_file_path =  params_path / 'Par0009.affine.txt'"
   ]
  },
  {
   "cell_type": "code",
   "execution_count": 16,
   "id": "300d0395-fd0c-4e92-a801-cd1650fa4cd6",
   "metadata": {},
   "outputs": [],
   "source": [
    "# Separating Labels for MNI atlas\n",
    "#mni_atlas_template = sitk.ReadImage(str(mni_atlas_path / 'template.nii.gz'))\n",
    "#mni_atlas_labels = sitk.ReadImage(str(mni_atlas_path / 'atlas.nii.gz')) # probability maps image \n",
    "#mni_atlas_labels_array = sitk.GetArrayFromImage(mni_atlas_labels) # probability maps array\n",
    "\n",
    "#atlas_background = mni_atlas_labels_array[0, :, :, :]\n",
    "#atlas_csf = mni_atlas_labels_array[1, :, :, :]\n",
    "#atlas_gm = mni_atlas_labels_array[2, :, :, :]\n",
    "#atlas_wm = mni_atlas_labels_array[3, :, :, :]\n",
    " \n",
    "#utils.save_segementations(atlas_background, mni_atlas_template , str(mni_atlas_path/'p_atlas_background.nii.gz'))\n",
    "#utils.save_segementations(atlas_csf, mni_atlas_template , str(mni_atlas_path/'p_atlas_csf.nii.gz'))\n",
    "#utils.save_segementations(atlas_gm, mni_atlas_template , str(mni_atlas_path/'p_atlas_gm.nii.gz'))\n",
    "#utils.save_segementations(atlas_wm, mni_atlas_template , str(mni_atlas_path/'p_atlas_wm.nii.gz'))"
   ]
  },
  {
   "cell_type": "code",
   "execution_count": 6,
   "id": "0832a90f-7321-487b-920a-eb5d79cab3d5",
   "metadata": {},
   "outputs": [
    {
     "name": "stdout",
     "output_type": "stream",
     "text": [
      "D:\\Lab_03\\data\\test-set\\testing-images\\1003.nii.gz\n",
      "D:\\Lab_03\\data\\test-set\\testing-images\\1004.nii.gz\n",
      "D:\\Lab_03\\data\\test-set\\testing-images\\1005.nii.gz\n",
      "D:\\Lab_03\\data\\test-set\\testing-images\\1018.nii.gz\n",
      "D:\\Lab_03\\data\\test-set\\testing-images\\1019.nii.gz\n",
      "D:\\Lab_03\\data\\test-set\\testing-images\\1023.nii.gz\n",
      "D:\\Lab_03\\data\\test-set\\testing-images\\1024.nii.gz\n",
      "D:\\Lab_03\\data\\test-set\\testing-images\\1025.nii.gz\n",
      "D:\\Lab_03\\data\\test-set\\testing-images\\1038.nii.gz\n",
      "D:\\Lab_03\\data\\test-set\\testing-images\\1039.nii.gz\n",
      "D:\\Lab_03\\data\\test-set\\testing-images\\1101.nii.gz\n",
      "D:\\Lab_03\\data\\test-set\\testing-images\\1104.nii.gz\n",
      "D:\\Lab_03\\data\\test-set\\testing-images\\1107.nii.gz\n",
      "D:\\Lab_03\\data\\test-set\\testing-images\\1110.nii.gz\n",
      "D:\\Lab_03\\data\\test-set\\testing-images\\1113.nii.gz\n",
      "D:\\Lab_03\\data\\test-set\\testing-images\\1116.nii.gz\n",
      "D:\\Lab_03\\data\\test-set\\testing-images\\1119.nii.gz\n",
      "D:\\Lab_03\\data\\test-set\\testing-images\\1122.nii.gz\n",
      "D:\\Lab_03\\data\\test-set\\testing-images\\1125.nii.gz\n",
      "D:\\Lab_03\\data\\test-set\\testing-images\\1128.nii.gz\n"
     ]
    }
   ],
   "source": [
    "# Registration of the atlases to each test image\n",
    "\n",
    "our_atlas_template_path = our_atlas_path / 'mean_volume.nii.gz'\n",
    "#mni_atlas_template_path = mni_atlas_path / 'template.nii.gz'\n",
    "\n",
    "atlas_path = {'our_atlas': our_atlas_path}\n",
    "atlas_template_path = {'our_atlas': our_atlas_template_path}\n",
    "atlas_map_names = ['p_atlas_background', 'p_atlas_csf', 'p_atlas_gm', 'p_atlas_wm']\n",
    "\n",
    "# Read and modify parameters file\n",
    "field_value_pairs = [('ResultImageFormat', 'nii.gz'), ('FinalBSplineInterpolationOrder', '0.0')]\n",
    "utils_registration.modify_parameter(field_value_pairs, param_file_path)\n",
    "\n",
    "\n",
    "for j, fixed_img_path in enumerate(test_imgs_dir.iterdir()):\n",
    "    \n",
    "    print(fixed_img_path)\n",
    "    fix_name = fixed_img_path.name.rstrip('.nii.gz')\n",
    "    mask_path = test_masks_dir / f'{fix_name}_1C.nii.gz'\n",
    "    \n",
    "    # For each atlas \n",
    "    for atlas_name in ['our_atlas']:\n",
    "        result_path = output_path / atlas_name / fix_name\n",
    "        result_path.mkdir(exist_ok=True, parents=True)\n",
    "\n",
    "        res_img_path  = result_path / f'{atlas_name}_template.nii.gz'\n",
    "        res_mask_path = result_path / f'{atlas_name}_1C.nii.gz'\n",
    "\n",
    "        # Register\n",
    "        transform_map_path = utils_registration.elastix(fixed_img_path, atlas_template_path[atlas_name], res_img_path, param_file_path)\n",
    "\n",
    "        # Correct transformation parameters file\n",
    "        field_value_pairs = [('ResultImageFormat', 'nii.gz'), ('FinalBSplineInterpolationOrder', '0.0')]\n",
    "        utils_registration.modify_parameter(field_value_pairs, transform_map_path)\n",
    "        \n",
    "        # Transform brain_mask\n",
    "        utils_registration.transformix(mask_path, res_mask_path, transform_map_path)  \n",
    "    \n",
    "        for label_name in atlas_map_names:\n",
    "            res_lab_path = result_path / f'{atlas_name}_{label_name}.nii.gz'\n",
    "            lab_path = str(atlas_path[atlas_name] / label_name)\n",
    "            \n",
    "            # Transform labels\n",
    "            utils_registration.transformix(lab_path, res_lab_path, transform_map_path)"
   ]
  },
  {
   "cell_type": "markdown",
   "id": "f534a812",
   "metadata": {},
   "source": [
    "# Get Tissue Model"
   ]
  },
  {
   "cell_type": "code",
   "execution_count": 7,
   "id": "79f886ba",
   "metadata": {},
   "outputs": [
    {
     "ename": "RuntimeError",
     "evalue": "Exception thrown in SimpleITK ReadImage: C:\\dafne\\SimpleElastix\\Code\\IO\\src\\sitkImageReaderBase.cxx:99:\nsitk::ERROR: The file \"D:\\Lab_03\\data\\training-set\\atlases\\t_atlas.nii.gz\" does not exist.",
     "output_type": "error",
     "traceback": [
      "\u001b[1;31m---------------------------------------------------------------------------\u001b[0m",
      "\u001b[1;31mRuntimeError\u001b[0m                              Traceback (most recent call last)",
      "Cell \u001b[1;32mIn[7], line 12\u001b[0m\n\u001b[0;32m      9\u001b[0m \u001b[38;5;66;03m# Reference values\u001b[39;00m\n\u001b[0;32m     10\u001b[0m ref_img_path \u001b[38;5;241m=\u001b[39m img_path \u001b[38;5;241m/\u001b[39m \u001b[38;5;124m'\u001b[39m\u001b[38;5;124mr_1001.nii.gz\u001b[39m\u001b[38;5;124m'\u001b[39m\n\u001b[1;32m---> 12\u001b[0m t_atlas \u001b[38;5;241m=\u001b[39m sitk\u001b[38;5;241m.\u001b[39mGetArrayFromImage(\u001b[43msitk\u001b[49m\u001b[38;5;241;43m.\u001b[39;49m\u001b[43mReadImage\u001b[49m\u001b[43m(\u001b[49m\u001b[38;5;28;43mstr\u001b[39;49m\u001b[43m(\u001b[49m\u001b[43matlases_path\u001b[49m\u001b[38;5;241;43m/\u001b[39;49m\u001b[38;5;124;43m'\u001b[39;49m\u001b[38;5;124;43mt_atlas.nii.gz\u001b[39;49m\u001b[38;5;124;43m'\u001b[39;49m\u001b[43m)\u001b[49m\u001b[43m)\u001b[49m)\n\u001b[0;32m     13\u001b[0m gt_labels \u001b[38;5;241m=\u001b[39m sitk\u001b[38;5;241m.\u001b[39mGetArrayFromImage(sitk\u001b[38;5;241m.\u001b[39mReadImage(\u001b[38;5;28mstr\u001b[39m(lab_path\u001b[38;5;241m/\u001b[39m\u001b[38;5;124m'\u001b[39m\u001b[38;5;124mr_1001_3C.nii.gz\u001b[39m\u001b[38;5;124m'\u001b[39m)))\n\u001b[0;32m     15\u001b[0m n_classes \u001b[38;5;241m=\u001b[39m \u001b[38;5;241m4\u001b[39m\n",
      "File \u001b[1;32m~\\AppData\\Roaming\\Python\\Python310\\site-packages\\SimpleITK\\SimpleITK.py:9018\u001b[0m, in \u001b[0;36mReadImage\u001b[1;34m(*args)\u001b[0m\n\u001b[0;32m   8986\u001b[0m \u001b[38;5;28;01mdef\u001b[39;00m \u001b[38;5;21mReadImage\u001b[39m(\u001b[38;5;241m*\u001b[39margs):\n\u001b[0;32m   8987\u001b[0m \u001b[38;5;250m    \u001b[39m\u001b[38;5;124;03m\"\"\"\u001b[39;00m\n\u001b[0;32m   8988\u001b[0m \u001b[38;5;124;03m    ReadImage(VectorString fileNames, itk::simple::PixelIDValueEnum outputPixelType, std::string const & imageIO) -> Image\u001b[39;00m\n\u001b[0;32m   8989\u001b[0m \u001b[38;5;124;03m    ReadImage(std::string const & filename, itk::simple::PixelIDValueEnum outputPixelType, std::string const & imageIO) -> Image\u001b[39;00m\n\u001b[1;32m   (...)\u001b[0m\n\u001b[0;32m   9016\u001b[0m \n\u001b[0;32m   9017\u001b[0m \u001b[38;5;124;03m    \"\"\"\u001b[39;00m\n\u001b[1;32m-> 9018\u001b[0m     \u001b[38;5;28;01mreturn\u001b[39;00m \u001b[43m_SimpleITK\u001b[49m\u001b[38;5;241;43m.\u001b[39;49m\u001b[43mReadImage\u001b[49m\u001b[43m(\u001b[49m\u001b[38;5;241;43m*\u001b[39;49m\u001b[43margs\u001b[49m\u001b[43m)\u001b[49m\n",
      "\u001b[1;31mRuntimeError\u001b[0m: Exception thrown in SimpleITK ReadImage: C:\\dafne\\SimpleElastix\\Code\\IO\\src\\sitkImageReaderBase.cxx:99:\nsitk::ERROR: The file \"D:\\Lab_03\\data\\training-set\\atlases\\t_atlas.nii.gz\" does not exist."
     ]
    }
   ],
   "source": [
    "base_path    = Path('../Lab_03/').resolve()\n",
    "data_path    = base_path / 'data' /  'training-set'\n",
    "pm_path      = data_path / 'training-outputs' / 'Par0009.affine'\n",
    "img_path     = pm_path / 'training-images'\n",
    "lab_path     = pm_path / 'training-labels'\n",
    "bm_path      = pm_path / 'training-masks'\n",
    "atlases_path = data_path / 'atlases' / 'Par0009.affine'\n",
    "\n",
    "# Reference values\n",
    "ref_img_path = img_path / 'r_1001.nii.gz'\n",
    "\n",
    "t_atlas = sitk.GetArrayFromImage(sitk.ReadImage(str(atlases_path/'t_atlas.nii.gz')))\n",
    "gt_labels = sitk.GetArrayFromImage(sitk.ReadImage(str(lab_path/'r_1001_3C.nii.gz')))\n",
    "\n",
    "n_classes = 4\n",
    "labels_keys = {0: 'background', 1: 'csf', 2: 'wm', 3: 'gm'}\n",
    "\n",
    "t_histograms = np.zeros((4, 256))\n",
    "gt_histograms = np.zeros((4, 256))\n",
    "\n",
    "for i, img_filepath in tqdm(enumerate(img_path.iterdir()), total=len(list(img_path.iterdir()))):\n",
    "    if img_filepath.name.endswith('txt'):\n",
    "        continue\n",
    "    mov_img_id = img_filepath.name.rstrip('.nii.gz')\n",
    "    mov_lab_path = lab_path / f'{mov_img_id}_3C.nii.gz'\n",
    "    mov_bm_path = bm_path / f'{mov_img_id}_1C.nii.gz'\n",
    "    img_array = sitk.GetArrayFromImage(sitk.ReadImage(str(img_filepath)))\n",
    "    img_labels = sitk.GetArrayFromImage(sitk.ReadImage(str(mov_lab_path)))\n",
    "    img_bm = sitk.GetArrayFromImage(sitk.ReadImage(str(mov_bm_path)))\n",
    "    img_array = utils.min_max_norm(img_array, 255, img_bm, 'uint8')\n",
    "    t_atlas_temp = t_atlas[img_bm != 0].flatten()\n",
    "    img_array = img_array[img_bm != 0].flatten()\n",
    "    img_labels = img_labels[img_bm != 0].flatten()\n",
    "    for c in range(n_classes):\n",
    "        t_histograms[c, :] += np.histogram(img_array[t_atlas_temp == c], bins=256, range=[0, 256])[0]\n",
    "        gt_histograms[c, :] += np.histogram(img_array[img_labels == c], bins=256, range=[0, 256])[0]\n",
    "\n",
    "t_histograms_density = t_histograms / np.sum(t_histograms, axis=1)[:, None]\n",
    "gt_histograms_density = gt_histograms / np.sum(gt_histograms, axis=1)[:, None]\n",
    "\n",
    "t_histograms_density = t_histograms_density[1:, :]\n",
    "gt_histograms_density = gt_histograms_density[1:, :]\n",
    "\n",
    "t_sum = np.sum(t_histograms_density, axis=0)[None, :]\n",
    "gt_sum = np.sum(gt_histograms_density, axis=0)[None, :]\n",
    "\n",
    "t_histograms_posterior = t_histograms_density / t_sum\n",
    "gt_histograms_posterior = gt_histograms_density / gt_sum\n",
    "gt_histograms_posterior[:, 225:] = np.array([0,1,0])[:, None]\n",
    "\n",
    "with open((data_path.parent/'tissue_models_3C_bm.pkl'), 'wb') as f:\n",
    "    pkl.dump(gt_histograms_posterior, f)"
   ]
  },
  {
   "cell_type": "code",
   "execution_count": null,
   "id": "9a8c9c52",
   "metadata": {},
   "outputs": [],
   "source": [
    "# Registration of the atlases to each test image\n",
    "\n",
    "# Atlas paths\n",
    "our_atlas_template_path = our_atlas_path / 'mean_volume.nii.gz'\n",
    "#mni_atlas_template_path = mni_atlas_path / 'template.nii.gz'\n",
    "\n",
    "atlas_path = {'our_atlas': our_atlas_path, 'mni_atlas': mni_atlas_path}\n",
    "atlas_template_path = {'our_atlas': our_atlas_template_path, 'mni_atlas': mni_atlas_template_path}\n",
    "atlas_map_names = ['p_atlas_background', 'p_atlas_csf', 'p_atlas_gm', 'p_atlas_wm']\n",
    "\n",
    "# Read and modify parameters file\n",
    "field_value_pairs = [('ResultImageFormat', 'nii.gz'), ('FinalBSplineInterpolationOrder', '0.0')]\n",
    "utils.modify_field_parameter_map(field_value_pairs, param_file_path)\n",
    "\n",
    "\n",
    "for j, fixed_img_path in enumerate(test_imgs_dir.iterdir()):\n",
    "    \n",
    "    print(fixed_img_path)\n",
    "    fix_name = fixed_img_path.name.rstrip('.nii.gz')\n",
    "    \n",
    "    mask_path = test_masks_dir / f'{fix_name}_1C.nii.gz'\n",
    "    \n",
    "    # For each atlas \n",
    "    for atlas_name in ['our_atlas', 'mni_atlas']:\n",
    "        result_path = output_path / atlas_name / fix_name\n",
    "        result_path.mkdir(exist_ok=True, parents=True)\n",
    "\n",
    "        res_img_path = result_path / f'{atlas_name}_template.nii.gz'\n",
    "        res_mask_path = result_path / f'{atlas_name}_1C.nii.gz'\n",
    "\n",
    "        # Register\n",
    "        transform_map_path = utils.elastix_wrapper(fixed_img_path, atlas_template_path[atlas_name], res_img_path, param_file_path)\n",
    "\n",
    "        # Correct transformation parameters file\n",
    "        field_value_pairs = [('ResultImageFormat', 'nii.gz'), ('FinalBSplineInterpolationOrder', '0.0')]\n",
    "        utils.modify_field_parameter_map(field_value_pairs, transform_map_path)\n",
    "        \n",
    "        # Transform brain_mask\n",
    "        utils.transformix_wrapper(mask_path, res_mask_path, transform_map_path)  \n",
    "    \n",
    "        for label_name in atlas_map_names:\n",
    "            res_lab_path = result_path / f'{atlas_name}_{label_name}.nii.gz'\n",
    "            lab_path = str(atlas_path[atlas_name] / label_name)\n",
    "            \n",
    "            # Transform labels\n",
    "            utils.transformix_wrapper(lab_path, res_lab_path, transform_map_path)"
   ]
  },
  {
   "cell_type": "code",
   "execution_count": null,
   "id": "242d2898",
   "metadata": {},
   "outputs": [],
   "source": []
  }
 ],
 "metadata": {
  "colab": {
   "provenance": [],
   "toc_visible": true
  },
  "kernelspec": {
   "display_name": "Python 3 (ipykernel)",
   "language": "python",
   "name": "python3"
  },
  "language_info": {
   "codemirror_mode": {
    "name": "ipython",
    "version": 3
   },
   "file_extension": ".py",
   "mimetype": "text/x-python",
   "name": "python",
   "nbconvert_exporter": "python",
   "pygments_lexer": "ipython3",
   "version": "3.10.2"
  },
  "vscode": {
   "interpreter": {
    "hash": "7113362d7bd43382b67f366a4c99867010345ad6310f4c3e6871fdbffb36624a"
   }
  }
 },
 "nbformat": 4,
 "nbformat_minor": 5
}
