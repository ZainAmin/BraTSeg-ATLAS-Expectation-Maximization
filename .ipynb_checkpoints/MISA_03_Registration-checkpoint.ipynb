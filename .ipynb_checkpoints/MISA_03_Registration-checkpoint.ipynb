{
 "cells": [
  {
   "cell_type": "markdown",
   "id": "d58c59de",
   "metadata": {},
   "source": [
    "# Libraries"
   ]
  },
  {
   "cell_type": "code",
   "execution_count": 11,
   "id": "1d56bd4b",
   "metadata": {},
   "outputs": [],
   "source": [
    "# Import Libraries\n",
    "import shutil\n",
    "import subprocess\n",
    "import numpy as np\n",
    "import pandas as pd\n",
    "import seaborn as sns\n",
    "import SimpleITK as sitk\n",
    "import matplotlib.pyplot as plt\n",
    "from tqdm import tqdm\n",
    "from typing import List\n",
    "from pathlib import Path\n",
    "\n",
    "import utils_registration  "
   ]
  },
  {
   "cell_type": "markdown",
   "id": "f0edb26a",
   "metadata": {},
   "source": [
    "# Import Dataset"
   ]
  },
  {
   "cell_type": "code",
   "execution_count": 14,
   "id": "e17010d2",
   "metadata": {},
   "outputs": [],
   "source": [
    "# Define the path of the main directory\n",
    "MAIN_PATH = Path('../Lab_03/').resolve()\n",
    "DATA_PATH = MAIN_PATH/ 'data'\n",
    "\n",
    "# Define the path of train dataset directory\n",
    "test_images_dir_path = DATA_PATH / 'train-set' / 'training-images'\n",
    "test_labels_dir_path = DATA_PATH / 'train-set' / 'training-labels'\n",
    "test_masks_dir_path  = DATA_PATH / 'train-set' / 'training-masks'\n",
    "output_dir_path      = DATA_PATH / 'train-set' / 'training-outputs'\n",
    "\n",
    "# Define the path of the registration parameter directory\n",
    "parameter_dir_path = MAIN_PATH / 'parameter'\n",
    "\n",
    "# Define the name of the registration parameter\n",
    "reg_parameter = 'Par0009.affine.txt'"
   ]
  },
  {
   "cell_type": "markdown",
   "id": "fe5711cb",
   "metadata": {},
   "source": [
    "# Get Mutual Information"
   ]
  },
  {
   "cell_type": "code",
   "execution_count": 15,
   "id": "67d51fda",
   "metadata": {},
   "outputs": [
    {
     "name": "stderr",
     "output_type": "stream",
     "text": [
      "Registration Progressing: 100%|█████████████████████████████████████████████████████| 20/20 [1:22:10<00:00, 246.51s/it]\n"
     ]
    }
   ],
   "source": [
    "# Iterate over fixed images in the training directory\n",
    "for i, fixed_image_path in tqdm(enumerate(train_images_dir_path.iterdir()), total=len(list(train_images_dir_path.iterdir())), desc='Registration Progressing'):\n",
    "    # Get the id of the fixed image\n",
    "    fixed_image_id = fixed_image_path.stem\n",
    "    \n",
    "    # Define the path of the output directory to store registered images\n",
    "    output_path = output_dir_path / 'Par0009.affine' / fixed_image_id \n",
    "    \n",
    "    # Check if the output directory is already available, if yes, skip registration\n",
    "    if output_path.exists():\n",
    "        continue\n",
    "    \n",
    "    # Create the output directory if it doesn't exist\n",
    "    output_path.mkdir(exist_ok=True, parents=True)\n",
    "    \n",
    "    # Iterate over moving images in the training directory\n",
    "    for j, moving_image_path in enumerate(train_images_dir_path.iterdir()):\n",
    "        # Get the id of the moving image\n",
    "        moving_image_id = moving_image_path.stem\n",
    "        \n",
    "        # Define the path of the registered image\n",
    "        reg_image_path = output_path / f'reg_{moving_image_id}.nii.gz'\n",
    "        \n",
    "        # Check if fixed image and moving image are the same; if true, copy the image without registration\n",
    "        if fixed_image_id == moving_image_id:\n",
    "            shutil.copy(moving_image_path, reg_image_path)\n",
    "            continue\n",
    "        \n",
    "        # Read and modify parameters from the registration parameter file\n",
    "        reg_parameter_file_path = parameter_dir_path / reg_parameter\n",
    "        field_value_pairs = [('ResultImageFormat', 'nii.gz')]\n",
    "        utils_registration.modify_parameter(field_value_pairs, reg_parameter_file_path)\n",
    "        \n",
    "        # Apply registration using elastix wrapper\n",
    "        utils_registration.elastix(fixed_image_path, moving_image_path, reg_image_path, reg_parameter_file_path)"
   ]
  },
  {
   "cell_type": "code",
   "execution_count": 16,
   "id": "3814c84a",
   "metadata": {},
   "outputs": [
    {
     "name": "stderr",
     "output_type": "stream",
     "text": [
      "Calculating Mutual Information:   0%|                                                           | 0/20 [00:00<?, ?it/s]\n"
     ]
    },
    {
     "ename": "RuntimeError",
     "evalue": "Exception thrown in SimpleITK ReadImage: C:\\dafne\\SimpleElastix\\Code\\IO\\src\\sitkImageReaderBase.cxx:99:\nsitk::ERROR: The file \"D:\\Lab_03\\data\\test-set\\testing-output\\Par0009.affine\\1003.nii\\r_1003.nii.nii.gz\" does not exist.",
     "output_type": "error",
     "traceback": [
      "\u001b[1;31m---------------------------------------------------------------------------\u001b[0m",
      "\u001b[1;31mRuntimeError\u001b[0m                              Traceback (most recent call last)",
      "Cell \u001b[1;32mIn[16], line 15\u001b[0m\n\u001b[0;32m     12\u001b[0m mutual_information_row \u001b[38;5;241m=\u001b[39m {}\n\u001b[0;32m     14\u001b[0m \u001b[38;5;66;03m# Read the registered image\u001b[39;00m\n\u001b[1;32m---> 15\u001b[0m reg_image \u001b[38;5;241m=\u001b[39m sitk\u001b[38;5;241m.\u001b[39mGetArrayFromImage(\u001b[43msitk\u001b[49m\u001b[38;5;241;43m.\u001b[39;49m\u001b[43mReadImage\u001b[49m\u001b[43m(\u001b[49m\u001b[38;5;28;43mstr\u001b[39;49m\u001b[43m(\u001b[49m\u001b[43mreg_image_dir_path\u001b[49m\u001b[43m \u001b[49m\u001b[38;5;241;43m/\u001b[39;49m\u001b[43m \u001b[49m\u001b[38;5;124;43mf\u001b[39;49m\u001b[38;5;124;43m'\u001b[39;49m\u001b[38;5;124;43mr_\u001b[39;49m\u001b[38;5;132;43;01m{\u001b[39;49;00m\u001b[43mreg_image_name\u001b[49m\u001b[38;5;132;43;01m}\u001b[39;49;00m\u001b[38;5;124;43m.nii.gz\u001b[39;49m\u001b[38;5;124;43m'\u001b[39;49m\u001b[43m)\u001b[49m\u001b[43m)\u001b[49m)\n\u001b[0;32m     17\u001b[0m \u001b[38;5;66;03m# Iterate over moving images in the registered image directory\u001b[39;00m\n\u001b[0;32m     18\u001b[0m \u001b[38;5;28;01mfor\u001b[39;00m moving_image_path \u001b[38;5;129;01min\u001b[39;00m reg_image_dir_path\u001b[38;5;241m.\u001b[39miterdir():\n\u001b[0;32m     19\u001b[0m     \u001b[38;5;66;03m# Skip files with .txt extension (assuming these are not images)\u001b[39;00m\n",
      "File \u001b[1;32m~\\AppData\\Roaming\\Python\\Python310\\site-packages\\SimpleITK\\SimpleITK.py:9018\u001b[0m, in \u001b[0;36mReadImage\u001b[1;34m(*args)\u001b[0m\n\u001b[0;32m   8986\u001b[0m \u001b[38;5;28;01mdef\u001b[39;00m \u001b[38;5;21mReadImage\u001b[39m(\u001b[38;5;241m*\u001b[39margs):\n\u001b[0;32m   8987\u001b[0m \u001b[38;5;250m    \u001b[39m\u001b[38;5;124;03m\"\"\"\u001b[39;00m\n\u001b[0;32m   8988\u001b[0m \u001b[38;5;124;03m    ReadImage(VectorString fileNames, itk::simple::PixelIDValueEnum outputPixelType, std::string const & imageIO) -> Image\u001b[39;00m\n\u001b[0;32m   8989\u001b[0m \u001b[38;5;124;03m    ReadImage(std::string const & filename, itk::simple::PixelIDValueEnum outputPixelType, std::string const & imageIO) -> Image\u001b[39;00m\n\u001b[1;32m   (...)\u001b[0m\n\u001b[0;32m   9016\u001b[0m \n\u001b[0;32m   9017\u001b[0m \u001b[38;5;124;03m    \"\"\"\u001b[39;00m\n\u001b[1;32m-> 9018\u001b[0m     \u001b[38;5;28;01mreturn\u001b[39;00m \u001b[43m_SimpleITK\u001b[49m\u001b[38;5;241;43m.\u001b[39;49m\u001b[43mReadImage\u001b[49m\u001b[43m(\u001b[49m\u001b[38;5;241;43m*\u001b[39;49m\u001b[43margs\u001b[49m\u001b[43m)\u001b[49m\n",
      "\u001b[1;31mRuntimeError\u001b[0m: Exception thrown in SimpleITK ReadImage: C:\\dafne\\SimpleElastix\\Code\\IO\\src\\sitkImageReaderBase.cxx:99:\nsitk::ERROR: The file \"D:\\Lab_03\\data\\test-set\\testing-output\\Par0009.affine\\1003.nii\\r_1003.nii.nii.gz\" does not exist."
     ]
    }
   ],
   "source": [
    "# Define the path to the output directory containing registered images\n",
    "output_image_path = output_dir_path / 'Par0009.affine'\n",
    "\n",
    "# Initialize lists to store mutual information values and corresponding image names\n",
    "mutual_information_df = []\n",
    "index_list = []\n",
    "\n",
    "# Iterate over registered image directories in the output directory\n",
    "for reg_image_dir_path in tqdm(output_image_path.iterdir(), total=len(list(output_image_path.iterdir())), desc='Calculating Mutual Information'):\n",
    "    reg_image_name = reg_image_dir_path.name\n",
    "    index_list.append(reg_image_name)\n",
    "    mutual_information_row = {}\n",
    "    \n",
    "    # Read the registered image\n",
    "    reg_image = sitk.GetArrayFromImage(sitk.ReadImage(str(reg_image_dir_path / f'r_{reg_image_name}.nii.gz')))\n",
    "    \n",
    "    # Iterate over moving images in the registered image directory\n",
    "    for moving_image_path in reg_image_dir_path.iterdir():\n",
    "        # Skip files with .txt extension (assuming these are not images)\n",
    "        if moving_image_path.name.endswith('txt'):\n",
    "            continue\n",
    "        \n",
    "        # Read the moving image and calculate mutual information\n",
    "        moving_image = sitk.GetArrayFromImage(sitk.ReadImage(str(moving_image_path)))\n",
    "        # Store mutual information value in the dictionary\n",
    "        mutual_information_row[(moving_image_path.stem).lstrip('reg_')] = utils_registration.mutual_information(reg_image, moving_image)\n",
    "    \n",
    "    # Append mutual information values for each image to the list\n",
    "    mutual_information_df.append(mutual_information_row)\n",
    "\n",
    "# Create a DataFrame using mutual information values and corresponding image names as index\n",
    "mutual_information_df = pd.DataFrame(mutual_information_df, index=index_list)"
   ]
  },
  {
   "cell_type": "code",
   "execution_count": null,
   "id": "3e8f1e3d",
   "metadata": {},
   "outputs": [],
   "source": [
    "mutual_information_df['fixed_image'] = mutual_information_df.index.values\n",
    "plot_df = pd.melt(\n",
    "    mutual_information_df,\n",
    "    id_vars=['fixed_image'],\n",
    "    value_vars=[i for i in mutual_information_df.columns if i!='fixed_image'], ignore_index=False\n",
    ")\n",
    "plot_df.columns = ['Fixed Image', 'Moving Image', 'Mutual Information']\n",
    "plot_df = plot_df.loc[plot_df['Mutual Information'] < 1, :]\n",
    "\n",
    "# Plot\n",
    "plt.figure(figsize=(10, 4))\n",
    "plt.title('Mutual Information Between Registered Images and Fixed Images [Test Dataset]')\n",
    "sns.boxplot(plot_df, x='Fixed Image', y='Mutual Information')\n",
    "plt.xticks(rotation=45)\n",
    "sns.despine()\n",
    "plt.show()"
   ]
  },
  {
   "cell_type": "markdown",
   "id": "25071635",
   "metadata": {},
   "source": [
    "# Train Data Registration"
   ]
  },
  {
   "cell_type": "code",
   "execution_count": 10,
   "id": "26559906",
   "metadata": {},
   "outputs": [
    {
     "name": "stderr",
     "output_type": "stream",
     "text": [
      "Registration Progressing: 100%|████████████████████████████████████████████████████████| 20/20 [06:41<00:00, 20.08s/it]\n"
     ]
    }
   ],
   "source": [
    "# Define fixed image to use\n",
    "fixed_image_path = train_images_dir_path / '1003.nii.gz'\n",
    "fixed_image_id = fixed_image_path.name.rstrip('.nii.gz')\n",
    "\n",
    "# Loop through each moving image for registration\n",
    "for i, moving_image_path in tqdm(enumerate(train_images_dir_path.iterdir()), total=len(list(train_images_dir_path.iterdir())), desc='Registration Progressing'):\n",
    "    \n",
    "    # Get the moving image id\n",
    "    moving_image_id = moving_image_path.name.rstrip('.nii.gz')\n",
    "    \n",
    "    # Get the path of the moving image\n",
    "    moving_label_path = test_labels_dir_path / f'{moving_image_id}_3C.nii.gz'\n",
    "    \n",
    "    # Get the path of the moving mask\n",
    "    moving_mask_path = test_masks_dir_path / f'{moving_image_id}_1C.nii.gz'\n",
    "\n",
    "    # Define output directories for registration results\n",
    "    output_images_path = output_dir_path / 'Par0009.affine' / 'training-images'\n",
    "    output_labels_path = output_dir_path / 'Par0009.affine' / 'training-labels'\n",
    "    output_masks_path  = output_dir_path / 'Par0009.affine' / 'training-mask'\n",
    "\n",
    "    # Create output directories if they don't exist\n",
    "    output_images_path.mkdir(exist_ok=True, parents=True)\n",
    "    output_labels_path.mkdir(exist_ok=True, parents=True)\n",
    "    output_masks_path.mkdir(exist_ok=True, parents=True)\n",
    "\n",
    "    # Define paths for registered images, labels, and masks\n",
    "    reg_image_path = output_images_path / f'r_{moving_image_id}.nii.gz'\n",
    "    reg_label_path = output_labels_path / f'r_{moving_image_id}_3C.nii.gz'\n",
    "    reg_mask_path  = output_masks_path  / f'r_{moving_image_id}_1C.nii.gz'\n",
    "\n",
    "    # Don't register if the fixed image and moving image are same, just copy it\n",
    "    if fixed_image_id == moving_image_id:\n",
    "        shutil.copy(moving_image_path, reg_image_path)\n",
    "        shutil.copy(moving_label_path, reg_label_path)\n",
    "        shutil.copy(moving_mask_path,  reg_mask_path)\n",
    "        continue\n",
    "\n",
    "    # Read and modify parameters file\n",
    "    reg_parameter_file_path = parameter_dir_path / reg_parameter\n",
    "    field_value_pairs = [('ResultImageFormat', 'nii.gz'), ('FinalBSplineInterpolationOrder', '0.0')]\n",
    "    utils_registration.modify_parameter(field_value_pairs, reg_parameter_file_path)\n",
    "\n",
    "    # Register the moving image\n",
    "    transform_map_path = utils_registration.elastix(fixed_image_path, moving_image_path, reg_image_path, reg_parameter_file_path)\n",
    "\n",
    "    # Correct transformation parameters file\n",
    "    utils_registration.modify_parameter(field_value_pairs, reg_parameter_file_path)\n",
    "\n",
    "    # Transform labels using the obtained transformation\n",
    "    utils_registration.transformix(moving_label_path, reg_label_path, transform_map_path)\n",
    "\n",
    "    # Transform masks using the obtained transformation\n",
    "    utils_registration.transformix(moving_mask_path, reg_mask_path, transform_map_path)\n"
   ]
  },
  {
   "cell_type": "markdown",
   "id": "cf7f1037",
   "metadata": {},
   "source": [
    "# Generate Atlas From Training Data"
   ]
  },
  {
   "cell_type": "code",
   "execution_count": null,
   "id": "016f6cff",
   "metadata": {},
   "outputs": [],
   "source": [
    "# Define the path of registarted image and labels\n",
    "output_dir_path     = DATA_PATH / 'training-set' / 'training-output'/ 'Par0009.affine'\n",
    "reg_image_dir_path  = output_dir_path / 'training-images'\n",
    "reg_labels_dir_path = output_dir_path / 'training-labels'\n",
    "\n",
    "# Define the path of the reference image\n",
    "ref_image_path = reg_image_dir_path / 'r_1001.nii.gz'\n",
    "\n",
    "# Read the reference image and convert into an array\n",
    "ref_image = sitk.ReadImage(str(ref_image_path))  \n",
    "ref_image_array = sitk.GetArrayFromImage(ref_image)\n",
    "\n",
    "# Define the configuration for atlas\n",
    "num_classes = 4\n",
    "num_volumes = len(list(reg_labels_dir_path.iterdir()))\n",
    "ref_image_shape = ref_image_array.shape\n",
    "labels_keys = {0: 'background', 1: 'csf', 2: 'wm', 3: 'gm'}\n",
    "\n",
    "# Create atlas accumulators\n",
    "atlases     = np.zeros((num_classes, ref_image_shape[0], ref_image_shape[1], ref_image_shape[2])).astype('float32')\n",
    "mean_volume = np.zeros_like(ref_image_array).astype('float32')\n",
    "\n",
    "# Loop through each registered image for atlas creation\n",
    "for i, image_path in tqdm(enumerate(reg_image_dir_path.iterdir()), total=len(list(reg_image_dir_path.iterdir()))):\n",
    "    \n",
    "    # If image has .txt extension, continue\n",
    "    if image_path.name.endswith('txt'):\n",
    "        continue\n",
    "    \n",
    "    # Get the id of the registered image and label\n",
    "    image_id = image_path.name.rstrip('.nii.gz')\n",
    "    label_id = f'{image_id}_3C.nii.gz'\n",
    "    \n",
    "    # Accumulate the mean of an registered image\n",
    "    image = sitk.GetArrayFromImage(sitk.ReadImage(str(image_path)))\n",
    "    image = utils.min_max_norm(image, 255).astype('uint8')\n",
    "    mean_volume += image / num_volumes\n",
    "    \n",
    "    # Accumulate probability atlas image\n",
    "    label = sitk.GetArrayFromImage(sitk.ReadImage(str(reg_labels_dir_path / label_id))) \n",
    "    for j in range(atlases.shape[0]):\n",
    "        atlases[j, :, :, :] += np.where(label == j, 1, 0) / num_volumes\n",
    "\n",
    "# Get topological atlas by voting\n",
    "topological_atlas = np.argmax(atlases, axis=0)\n",
    "\n",
    "# Save atlas results\n",
    "atlas_output_path = DATA_PATH /\"test-set\"/ \"atlases\" / \"Par0009.affine\"\n",
    "atlas_output_path.mkdir(exist_ok=True, parents=True)\n",
    "\n",
    "for k in range(atlases.shape[0]):\n",
    "    utils_registration.save_segementations(atlases[k, :, :, :], ref_image, atlas_output_path / f'p_atlas_{labels_keys[k]}.nii.gz')\n",
    "    utils_registration.save_segementations(np.where(topological_atlas == k, 255, 0), ref_image, atlas_output_path / f't_atlas_{labels_keys[k]}.nii.gz')\n",
    "\n",
    "utils_registration.save_segementations(topological_atlas, ref_image, atlas_output_path / 't_atlas.nii.gz')\n",
    "utils_registration.save_segementations(mean_volume, ref_image, atlas_output_path / 'mean_volume.nii.gz')"
   ]
  },
  {
   "cell_type": "code",
   "execution_count": null,
   "id": "354cc774",
   "metadata": {},
   "outputs": [],
   "source": [
    "MAIN_PATH = Path('../Lab_03/').resolve()\n",
    "data_path = DATA_PATH / 'test-set' \n",
    "\n",
    "image_names = [\n",
    "    'training-images/1001.nii.gz', \n",
    "    'Atlases/Par0009.affine/mean_volume.nii.gz', \n",
    "    'Atlases/Par0009.affine/p_atlas_csf.nii.gz',\n",
    "    'Atlases/Par0009.affine/p_atlas_wm.nii.gz', \n",
    "    'Atlases/Par0009.affine/p_atlas_gm.nii.gz', \n",
    "    'Atlases/Par0009.affine/t_atlas.nii.gz']\n",
    "\n",
    "titles = [\n",
    "    'Reference', \n",
    "    'Mean Image', \n",
    "    'CSF Prob. Atlas',\n",
    "    'WM Prob. Atlas', \n",
    "    'GM Prob. Atlas', \n",
    "    'Maj. Vot. Atlas']\n",
    "\n",
    "utils_registration.complete_figure(data_path, image_names, titles)"
   ]
  }
 ],
 "metadata": {
  "kernelspec": {
   "display_name": "Python 3 (ipykernel)",
   "language": "python",
   "name": "python3"
  },
  "language_info": {
   "codemirror_mode": {
    "name": "ipython",
    "version": 3
   },
   "file_extension": ".py",
   "mimetype": "text/x-python",
   "name": "python",
   "nbconvert_exporter": "python",
   "pygments_lexer": "ipython3",
   "version": "3.10.2"
  }
 },
 "nbformat": 4,
 "nbformat_minor": 5
}
